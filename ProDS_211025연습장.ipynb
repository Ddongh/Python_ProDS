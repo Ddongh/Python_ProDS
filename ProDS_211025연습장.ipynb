{
 "cells": [
  {
   "cell_type": "code",
   "execution_count": null,
   "id": "fd33fd5a",
   "metadata": {},
   "outputs": [],
   "source": [
    "1 + 1"
   ]
  },
  {
   "cell_type": "code",
   "execution_count": null,
   "id": "75cf1026",
   "metadata": {},
   "outputs": [],
   "source": [
    "a = \"\\\"Python\\\" is awesome. \\n\\tHello Python\"\n",
    "print(a)"
   ]
  },
  {
   "cell_type": "code",
   "execution_count": null,
   "id": "ced1b0d4",
   "metadata": {},
   "outputs": [],
   "source": [
    "'abc'"
   ]
  },
  {
   "cell_type": "code",
   "execution_count": null,
   "id": "e41c7aae",
   "metadata": {},
   "outputs": [],
   "source": [
    "\"abc\""
   ]
  },
  {
   "cell_type": "code",
   "execution_count": null,
   "id": "083f8049",
   "metadata": {},
   "outputs": [],
   "source": [
    "'''abc'''"
   ]
  },
  {
   "cell_type": "code",
   "execution_count": null,
   "id": "8660286b",
   "metadata": {},
   "outputs": [],
   "source": [
    "\"\"\"abc\"\"\""
   ]
  },
  {
   "cell_type": "code",
   "execution_count": null,
   "id": "06a6b1e0",
   "metadata": {},
   "outputs": [],
   "source": [
    "\"it's mine\""
   ]
  },
  {
   "cell_type": "code",
   "execution_count": null,
   "id": "fdfb31a2",
   "metadata": {},
   "outputs": [],
   "source": [
    "'it\\'s mine'"
   ]
  },
  {
   "cell_type": "code",
   "execution_count": null,
   "id": "df6f4986",
   "metadata": {},
   "outputs": [],
   "source": [
    "'it's mine'"
   ]
  },
  {
   "cell_type": "code",
   "execution_count": null,
   "id": "f89d6945",
   "metadata": {},
   "outputs": [],
   "source": [
    "'''it's mine'''"
   ]
  },
  {
   "cell_type": "code",
   "execution_count": null,
   "id": "91a766db",
   "metadata": {},
   "outputs": [],
   "source": [
    "tx = \"Hello!\""
   ]
  },
  {
   "cell_type": "code",
   "execution_count": null,
   "id": "01300940",
   "metadata": {},
   "outputs": [],
   "source": [
    "tx[0]"
   ]
  },
  {
   "cell_type": "code",
   "execution_count": null,
   "id": "eb3dcccd",
   "metadata": {},
   "outputs": [],
   "source": [
    "tx[4]"
   ]
  },
  {
   "cell_type": "code",
   "execution_count": null,
   "id": "c902690b",
   "metadata": {},
   "outputs": [],
   "source": [
    "tx[0:4]"
   ]
  },
  {
   "cell_type": "code",
   "execution_count": null,
   "id": "d48c37be",
   "metadata": {},
   "outputs": [],
   "source": [
    "tx[:4]"
   ]
  },
  {
   "cell_type": "code",
   "execution_count": null,
   "id": "0cc2a845",
   "metadata": {},
   "outputs": [],
   "source": [
    "2 ** 4"
   ]
  },
  {
   "cell_type": "code",
   "execution_count": null,
   "id": "0cc7749d",
   "metadata": {},
   "outputs": [],
   "source": [
    "5 / 3"
   ]
  },
  {
   "cell_type": "code",
   "execution_count": null,
   "id": "0db8583c",
   "metadata": {},
   "outputs": [],
   "source": [
    "5 // 3"
   ]
  },
  {
   "cell_type": "code",
   "execution_count": null,
   "id": "99de5aec",
   "metadata": {},
   "outputs": [],
   "source": [
    "5 % 3"
   ]
  },
  {
   "cell_type": "code",
   "execution_count": null,
   "id": "e6f4f2e5",
   "metadata": {},
   "outputs": [],
   "source": [
    "[1, 2, 3]"
   ]
  },
  {
   "cell_type": "code",
   "execution_count": null,
   "id": "886774f4",
   "metadata": {},
   "outputs": [],
   "source": [
    "aa = [1, 2, 3]\n",
    "bb = [4, 5, 6]"
   ]
  },
  {
   "cell_type": "code",
   "execution_count": null,
   "id": "91c73a99",
   "metadata": {},
   "outputs": [],
   "source": [
    "aa"
   ]
  },
  {
   "cell_type": "code",
   "execution_count": null,
   "id": "c8819715",
   "metadata": {},
   "outputs": [],
   "source": [
    "bb"
   ]
  },
  {
   "cell_type": "code",
   "execution_count": null,
   "id": "5fe73d5e",
   "metadata": {},
   "outputs": [],
   "source": [
    "aa + bb"
   ]
  },
  {
   "cell_type": "code",
   "execution_count": null,
   "id": "dfcb22a1",
   "metadata": {},
   "outputs": [],
   "source": [
    "import numpy as np\n",
    "arr_1 = np.array([1, 2, 3])\n",
    "arr_2 = np.array([4, 5, 6])\n",
    "arr_1 + arr_2"
   ]
  },
  {
   "cell_type": "code",
   "execution_count": null,
   "id": "40c881d5",
   "metadata": {},
   "outputs": [],
   "source": [
    "aa"
   ]
  },
  {
   "cell_type": "code",
   "execution_count": null,
   "id": "7a882e6c",
   "metadata": {},
   "outputs": [],
   "source": [
    "aa[0] = 55\n",
    "aa"
   ]
  },
  {
   "cell_type": "code",
   "execution_count": null,
   "id": "0f255729",
   "metadata": {},
   "outputs": [],
   "source": [
    "aa.extend([\"a\", \"b\"])\n",
    "aa"
   ]
  },
  {
   "cell_type": "code",
   "execution_count": null,
   "id": "6a255c45",
   "metadata": {},
   "outputs": [],
   "source": [
    "mm = [1, 2, 3]\n",
    "mm.index(1)"
   ]
  },
  {
   "cell_type": "code",
   "execution_count": null,
   "id": "85460a5a",
   "metadata": {},
   "outputs": [],
   "source": [
    "mm.index(2)"
   ]
  },
  {
   "cell_type": "code",
   "execution_count": null,
   "id": "ace6162b",
   "metadata": {},
   "outputs": [],
   "source": [
    "tp1 = (1)"
   ]
  },
  {
   "cell_type": "code",
   "execution_count": null,
   "id": "f7c0bd5c",
   "metadata": {},
   "outputs": [],
   "source": [
    "type(tp1)"
   ]
  },
  {
   "cell_type": "code",
   "execution_count": null,
   "id": "626e68eb",
   "metadata": {},
   "outputs": [],
   "source": [
    "tp1"
   ]
  },
  {
   "cell_type": "code",
   "execution_count": null,
   "id": "8d764f78",
   "metadata": {},
   "outputs": [],
   "source": [
    "tp2 = (1,)\n",
    "type(tp2)"
   ]
  },
  {
   "cell_type": "code",
   "execution_count": null,
   "id": "9dcf5508",
   "metadata": {},
   "outputs": [],
   "source": [
    "tp2"
   ]
  },
  {
   "cell_type": "code",
   "execution_count": null,
   "id": "c4f376f8",
   "metadata": {},
   "outputs": [],
   "source": [
    "aa = (1, 2, 4, 6)\n",
    "aa"
   ]
  },
  {
   "cell_type": "code",
   "execution_count": null,
   "id": "db3db52e",
   "metadata": {},
   "outputs": [],
   "source": [
    "aa[2] = 123"
   ]
  },
  {
   "cell_type": "code",
   "execution_count": null,
   "id": "3161d9c8",
   "metadata": {},
   "outputs": [],
   "source": [
    "dic = {\"k1\" : [1, 2, 3]}\n",
    "dic"
   ]
  },
  {
   "cell_type": "code",
   "execution_count": null,
   "id": "2c76b356",
   "metadata": {},
   "outputs": [],
   "source": [
    "dic.values"
   ]
  },
  {
   "cell_type": "code",
   "execution_count": null,
   "id": "6827834d",
   "metadata": {},
   "outputs": [],
   "source": [
    "type(dic)"
   ]
  },
  {
   "cell_type": "code",
   "execution_count": null,
   "id": "7a9ab42a",
   "metadata": {},
   "outputs": [],
   "source": [
    "dic.keys()"
   ]
  },
  {
   "cell_type": "code",
   "execution_count": null,
   "id": "5789e468",
   "metadata": {},
   "outputs": [],
   "source": [
    "aa = \"asdf\"\n",
    "aa"
   ]
  },
  {
   "cell_type": "code",
   "execution_count": null,
   "id": "5bcbc1c7",
   "metadata": {},
   "outputs": [],
   "source": [
    "aa.upper()"
   ]
  },
  {
   "cell_type": "code",
   "execution_count": null,
   "id": "ff468364",
   "metadata": {},
   "outputs": [],
   "source": [
    "aa = aa.upper()\n",
    "aa"
   ]
  },
  {
   "cell_type": "code",
   "execution_count": null,
   "id": "3e1a8a41",
   "metadata": {},
   "outputs": [],
   "source": [
    "aa.lower()"
   ]
  },
  {
   "cell_type": "code",
   "execution_count": null,
   "id": "da8f6714",
   "metadata": {},
   "outputs": [],
   "source": [
    "bb = \"Asdf\"\n",
    "bb.upper()"
   ]
  },
  {
   "cell_type": "code",
   "execution_count": null,
   "id": "82ca2d41",
   "metadata": {},
   "outputs": [],
   "source": [
    "bb"
   ]
  },
  {
   "cell_type": "code",
   "execution_count": null,
   "id": "d3ba59b4",
   "metadata": {},
   "outputs": [],
   "source": [
    "bb.lower()"
   ]
  },
  {
   "cell_type": "code",
   "execution_count": null,
   "id": "7dd4164a",
   "metadata": {},
   "outputs": [],
   "source": [
    "a = \"010-1234-4567\""
   ]
  },
  {
   "cell_type": "code",
   "execution_count": null,
   "id": "dd252a67",
   "metadata": {},
   "outputs": [],
   "source": [
    "a"
   ]
  },
  {
   "cell_type": "code",
   "execution_count": null,
   "id": "5a426798",
   "metadata": {},
   "outputs": [],
   "source": [
    "a.split(\"-\")"
   ]
  },
  {
   "cell_type": "code",
   "execution_count": null,
   "id": "904d3e10",
   "metadata": {},
   "outputs": [],
   "source": [
    "a.split(\"2\")"
   ]
  },
  {
   "cell_type": "code",
   "execution_count": null,
   "id": "03e99e08",
   "metadata": {},
   "outputs": [],
   "source": [
    "\"\".join([\"x1\", \"x2\", \"x3\"])"
   ]
  },
  {
   "cell_type": "code",
   "execution_count": null,
   "id": "eb37f6ab",
   "metadata": {},
   "outputs": [],
   "source": [
    "x\" + \".join([1,2,3])"
   ]
  },
  {
   "cell_type": "code",
   "execution_count": null,
   "id": "5257f0c5",
   "metadata": {},
   "outputs": [],
   "source": [
    "range(5)"
   ]
  },
  {
   "cell_type": "code",
   "execution_count": null,
   "id": "f3d580f8",
   "metadata": {},
   "outputs": [],
   "source": [
    "help(range)"
   ]
  },
  {
   "cell_type": "code",
   "execution_count": null,
   "id": "44ead21d",
   "metadata": {},
   "outputs": [],
   "source": [
    "list(range(5))"
   ]
  },
  {
   "cell_type": "code",
   "execution_count": null,
   "id": "42793686",
   "metadata": {},
   "outputs": [],
   "source": [
    "list(range(4,10))"
   ]
  },
  {
   "cell_type": "code",
   "execution_count": null,
   "id": "6b74df93",
   "metadata": {},
   "outputs": [],
   "source": [
    "for k in range(1,5):\n",
    "    print(k)"
   ]
  },
  {
   "cell_type": "code",
   "execution_count": null,
   "id": "68838028",
   "metadata": {},
   "outputs": [],
   "source": [
    "for i in range(5):\n",
    "    print(i**2)"
   ]
  },
  {
   "cell_type": "code",
   "execution_count": null,
   "id": "0409459a",
   "metadata": {},
   "outputs": [],
   "source": [
    "from tqdm.notebook import tqdm\n",
    "import time\n",
    "\n",
    "for char in tqdm([\"a\", \"b\", \"c\", \"d\"]):\n",
    "    print(char)\n",
    "    time.sleep(2)"
   ]
  },
  {
   "cell_type": "code",
   "execution_count": null,
   "id": "e9ceea64",
   "metadata": {},
   "outputs": [],
   "source": [
    "tqdm([\"a\"])"
   ]
  },
  {
   "cell_type": "code",
   "execution_count": null,
   "id": "54945438",
   "metadata": {},
   "outputs": [],
   "source": [
    "a = [2, 6, 7, 8, 9]\n",
    "listt = [num for num in a if num % 2 == 0]\n",
    "listt"
   ]
  },
  {
   "cell_type": "code",
   "execution_count": null,
   "id": "6a2fe5d2",
   "metadata": {},
   "outputs": [],
   "source": [
    "a = [2, 6, 7, 8, 9]\n",
    "listt = [num for num in a if num % 2 == 0]\n",
    "listt"
   ]
  },
  {
   "cell_type": "code",
   "execution_count": null,
   "id": "65f89ec5",
   "metadata": {},
   "outputs": [],
   "source": [
    "listt = []\n",
    "print(listt)\n",
    "for num in a:\n",
    "    \n",
    "    if num % 2 == 0:\n",
    "        listt.extend([num])\n",
    "listt"
   ]
  },
  {
   "cell_type": "code",
   "execution_count": null,
   "id": "7097ddd4",
   "metadata": {},
   "outputs": [],
   "source": [
    "def f(x):\n",
    "    a = sum(x) / len(x)\n",
    "    return(a)"
   ]
  },
  {
   "cell_type": "code",
   "execution_count": null,
   "id": "0b097cb5",
   "metadata": {},
   "outputs": [],
   "source": [
    "f([1,2,3,4])"
   ]
  },
  {
   "cell_type": "code",
   "execution_count": null,
   "id": "a7179054",
   "metadata": {},
   "outputs": [],
   "source": [
    "np_rnorm = np.random.chisquare(2,100)"
   ]
  },
  {
   "cell_type": "code",
   "execution_count": null,
   "id": "212e6353",
   "metadata": {},
   "outputs": [],
   "source": [
    "np_rnorm"
   ]
  },
  {
   "cell_type": "code",
   "execution_count": null,
   "id": "8fb6900b",
   "metadata": {},
   "outputs": [],
   "source": [
    "arr = np.array([1, 2, 3, 4, 5])\n",
    "arr"
   ]
  },
  {
   "cell_type": "code",
   "execution_count": null,
   "id": "37b7e94e",
   "metadata": {},
   "outputs": [],
   "source": [
    "arr >= 3"
   ]
  },
  {
   "cell_type": "code",
   "execution_count": null,
   "id": "b440dd32",
   "metadata": {},
   "outputs": [],
   "source": [
    "np.where(arr > 3, 3, 0)"
   ]
  },
  {
   "cell_type": "code",
   "execution_count": null,
   "id": "0fc41311",
   "metadata": {},
   "outputs": [],
   "source": [
    "import pandas as pd"
   ]
  },
  {
   "cell_type": "code",
   "execution_count": null,
   "id": "8b544d24",
   "metadata": {},
   "outputs": [],
   "source": [
    "ser = pd.Series([1, 2, 3, 4])\n",
    "ser"
   ]
  },
  {
   "cell_type": "code",
   "execution_count": null,
   "id": "706b5d0e",
   "metadata": {},
   "outputs": [],
   "source": [
    "ser.values"
   ]
  },
  {
   "cell_type": "code",
   "execution_count": null,
   "id": "ed53be29",
   "metadata": {},
   "outputs": [],
   "source": [
    "ser.index"
   ]
  },
  {
   "cell_type": "code",
   "execution_count": null,
   "id": "b33fe610",
   "metadata": {},
   "outputs": [],
   "source": [
    "ser[ser != 2]"
   ]
  },
  {
   "cell_type": "code",
   "execution_count": null,
   "id": "677fb6a9",
   "metadata": {},
   "outputs": [],
   "source": [
    "ser[ser != 3]"
   ]
  },
  {
   "cell_type": "code",
   "execution_count": null,
   "id": "28fbaac8",
   "metadata": {},
   "outputs": [],
   "source": [
    "ser = ser.astype(\"int64\")\n",
    "ser + 월"
   ]
  },
  {
   "cell_type": "code",
   "execution_count": null,
   "id": "01ec1fbf",
   "metadata": {},
   "outputs": [],
   "source": [
    "ser.reset_index()"
   ]
  },
  {
   "cell_type": "code",
   "execution_count": null,
   "id": "c6c1cd46",
   "metadata": {},
   "outputs": [],
   "source": [
    "ser.reset_index(drop = True)"
   ]
  },
  {
   "cell_type": "code",
   "execution_count": null,
   "id": "f8baa3f3",
   "metadata": {},
   "outputs": [],
   "source": [
    "df = pd.DataFrame({\"aa\": [1, 2, 3],\n",
    "                  \"bb\": [\"a\", \"b\", \"c\"]})\n",
    "df"
   ]
  },
  {
   "cell_type": "code",
   "execution_count": null,
   "id": "3a172df3",
   "metadata": {},
   "outputs": [],
   "source": [
    "pd.DataFrame({\"a\" : [1,2,3,4,5],\n",
    "             \"b\" : [3,4,5,6,6]})"
   ]
  },
  {
   "cell_type": "code",
   "execution_count": null,
   "id": "7013ee15",
   "metadata": {},
   "outputs": [],
   "source": [
    "df.columns"
   ]
  },
  {
   "cell_type": "code",
   "execution_count": null,
   "id": "9463459e",
   "metadata": {},
   "outputs": [],
   "source": [
    "df.shape"
   ]
  },
  {
   "cell_type": "code",
   "execution_count": null,
   "id": "c1129862",
   "metadata": {},
   "outputs": [],
   "source": [
    "df.shape[0]"
   ]
  },
  {
   "cell_type": "code",
   "execution_count": null,
   "id": "8d0af37f",
   "metadata": {},
   "outputs": [],
   "source": [
    "df.shape[1]"
   ]
  },
  {
   "cell_type": "code",
   "execution_count": null,
   "id": "6a299143",
   "metadata": {},
   "outputs": [],
   "source": [
    "df.aa"
   ]
  },
  {
   "cell_type": "code",
   "execution_count": null,
   "id": "afa2cff8",
   "metadata": {},
   "outputs": [],
   "source": [
    "df[\"aa\"]"
   ]
  },
  {
   "cell_type": "code",
   "execution_count": null,
   "id": "72e6e3fe",
   "metadata": {},
   "outputs": [],
   "source": [
    "df.loc[:, \"aa\"]"
   ]
  },
  {
   "cell_type": "code",
   "execution_count": null,
   "id": "c45f2938",
   "metadata": {},
   "outputs": [],
   "source": [
    "df.index"
   ]
  },
  {
   "cell_type": "code",
   "execution_count": null,
   "id": "2718eeab",
   "metadata": {},
   "outputs": [],
   "source": [
    "df.iloc[:1,]"
   ]
  },
  {
   "cell_type": "code",
   "execution_count": null,
   "id": "c6359265",
   "metadata": {},
   "outputs": [],
   "source": [
    "df2 = pd.DataFrame([[1,2], [3,4]],\n",
    "                  columns = [\"a\", \"b\"])\n",
    "df2"
   ]
  },
  {
   "cell_type": "code",
   "execution_count": null,
   "id": "1d09156e",
   "metadata": {},
   "outputs": [],
   "source": [
    "df"
   ]
  },
  {
   "cell_type": "code",
   "execution_count": null,
   "id": "962fb9f7",
   "metadata": {},
   "outputs": [],
   "source": [
    "df.columns"
   ]
  },
  {
   "cell_type": "code",
   "execution_count": null,
   "id": "3f046ca8",
   "metadata": {},
   "outputs": [],
   "source": [
    "df.columns[1]"
   ]
  },
  {
   "cell_type": "code",
   "execution_count": null,
   "id": "ebbf0d2b",
   "metadata": {},
   "outputs": [],
   "source": [
    "df.columns = [\"xx\", \"yy\"]\n",
    "df"
   ]
  },
  {
   "cell_type": "code",
   "execution_count": null,
   "id": "9beff189",
   "metadata": {},
   "outputs": [],
   "source": [
    "df = df.rename(columns = {\"xx\" : \"obs\"})\n",
    "df"
   ]
  },
  {
   "cell_type": "code",
   "execution_count": null,
   "id": "bd23ca8b",
   "metadata": {},
   "outputs": [],
   "source": [
    "import os"
   ]
  },
  {
   "cell_type": "code",
   "execution_count": null,
   "id": "2c33ffe6",
   "metadata": {},
   "outputs": [],
   "source": [
    "os.getcwd()"
   ]
  },
  {
   "cell_type": "code",
   "execution_count": null,
   "id": "f5a7425e",
   "metadata": {},
   "outputs": [],
   "source": [
    "os.listdir()"
   ]
  },
  {
   "cell_type": "code",
   "execution_count": null,
   "id": "50b4f87a",
   "metadata": {},
   "outputs": [],
   "source": [
    "df"
   ]
  },
  {
   "cell_type": "code",
   "execution_count": null,
   "id": "adc84102",
   "metadata": {},
   "outputs": [],
   "source": [
    "df1 = pd.DataFrame([[1,\"b\"], [4,\"c\"], [5,\"d\"]], columns = [\"a\", \"b\"])\n",
    "df1"
   ]
  },
  {
   "cell_type": "code",
   "execution_count": null,
   "id": "a465c11c",
   "metadata": {},
   "outputs": [],
   "source": [
    "pd.concat([df, df1])"
   ]
  },
  {
   "cell_type": "code",
   "execution_count": null,
   "id": "fbc9d802",
   "metadata": {},
   "outputs": [],
   "source": []
  }
 ],
 "metadata": {
  "kernelspec": {
   "display_name": "Python 3 (ipykernel)",
   "language": "python",
   "name": "python3"
  },
  "language_info": {
   "codemirror_mode": {
    "name": "ipython",
    "version": 3
   },
   "file_extension": ".py",
   "mimetype": "text/x-python",
   "name": "python",
   "nbconvert_exporter": "python",
   "pygments_lexer": "ipython3",
   "version": "3.8.8"
  }
 },
 "nbformat": 4,
 "nbformat_minor": 5
}
