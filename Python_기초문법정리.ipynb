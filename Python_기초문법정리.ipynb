{
 "cells": [
  {
   "cell_type": "code",
   "execution_count": 2,
   "id": "8fee73b7",
   "metadata": {},
   "outputs": [],
   "source": [
    "import pandas as pd\n",
    "import numpy as np"
   ]
  },
  {
   "cell_type": "code",
   "execution_count": null,
   "id": "6467d915",
   "metadata": {},
   "outputs": [],
   "source": [
    "import os\n",
    "print(os.getcwd()) # 작업경로 확인\n",
    "print()\n",
    "print(os.listdir()) # 경로내 파일 확인"
   ]
  },
  {
   "cell_type": "markdown",
   "id": "98834342",
   "metadata": {},
   "source": [
    "# 1. 수학 연산자"
   ]
  },
  {
   "cell_type": "code",
   "execution_count": null,
   "id": "4c1e4408",
   "metadata": {},
   "outputs": [],
   "source": [
    "2 ** 4 # 제곱"
   ]
  },
  {
   "cell_type": "code",
   "execution_count": null,
   "id": "65d147eb",
   "metadata": {},
   "outputs": [],
   "source": [
    "5 / 3 # 나누기"
   ]
  },
  {
   "cell_type": "code",
   "execution_count": null,
   "id": "bf9f81d6",
   "metadata": {},
   "outputs": [],
   "source": [
    "5 // 3 # 나누기의 몫"
   ]
  },
  {
   "cell_type": "code",
   "execution_count": null,
   "id": "ab6ec1b7",
   "metadata": {},
   "outputs": [],
   "source": [
    "5 % 3 # 나누기의 나머지"
   ]
  },
  {
   "cell_type": "markdown",
   "id": "785d529d",
   "metadata": {},
   "source": [
    "# 2. 논리 연산자"
   ]
  },
  {
   "cell_type": "markdown",
   "id": "462aba33",
   "metadata": {},
   "source": [
    "#### ==<br>\n",
    "#### !=<br>\n",
    "#### ><br>\n",
    "#### >=<br>\n",
    "#### <<br>\n",
    "#### <=<br>"
   ]
  },
  {
   "cell_type": "markdown",
   "id": "7f025c84",
   "metadata": {},
   "source": [
    "# 3. array"
   ]
  },
  {
   "cell_type": "code",
   "execution_count": null,
   "id": "8b3a8c93",
   "metadata": {},
   "outputs": [],
   "source": [
    "import numpy as np\n",
    "arr_1 = np.array([1, 2, 3])\n",
    "arr_2 = np.array([4, 5, 6])\n",
    "arr_1 + arr_2              # array의 합"
   ]
  },
  {
   "cell_type": "code",
   "execution_count": null,
   "id": "684ba4bf",
   "metadata": {},
   "outputs": [],
   "source": [
    "arr > 2 # array는 논리 연산자에 대해 true, false로 반환"
   ]
  },
  {
   "cell_type": "code",
   "execution_count": null,
   "id": "913b7d10",
   "metadata": {},
   "outputs": [],
   "source": [
    "arr = np.array([1,2,3,4,5,6])\n",
    "print(arr)\n",
    "\n",
    "print(arr > 3)\n",
    "print(arr >= 3)\n",
    "print(arr == 3)\n",
    "print(arr != 3)"
   ]
  },
  {
   "cell_type": "code",
   "execution_count": null,
   "id": "db9a429d",
   "metadata": {},
   "outputs": [],
   "source": [
    "np.where(arr > 3, 1, 0) # 조건에 해당하는 부분을 1, 그렇지 않은 부분을 0"
   ]
  },
  {
   "cell_type": "markdown",
   "id": "13d04850",
   "metadata": {},
   "source": [
    "# 4. list"
   ]
  },
  {
   "cell_type": "code",
   "execution_count": null,
   "id": "3ba991ea",
   "metadata": {},
   "outputs": [],
   "source": [
    "L_a = [1, 2, 3]\n",
    "L_b = [4,5,6]\n",
    "\n",
    "print(L_a + L_b)        # 리스트의 합은 두 리스트를 옆으로 붙히는 것"
   ]
  },
  {
   "cell_type": "code",
   "execution_count": null,
   "id": "afdbe98e",
   "metadata": {},
   "outputs": [],
   "source": [
    "L_a.extend([4, 5, \"a\", \"b\"])   # 리스트의 확장\n",
    "print(L_a)\n",
    "\n",
    "L_a.append([\"c\", \"d\"])         # 리스트의 확장\n",
    "print(L_a)"
   ]
  },
  {
   "cell_type": "code",
   "execution_count": null,
   "id": "54229ee7",
   "metadata": {},
   "outputs": [],
   "source": [
    "print(L_a)\n",
    "L_a.index(3)       # 리스트 L_a의 원소 3의 위치                        ###########################################################"
   ]
  },
  {
   "cell_type": "code",
   "execution_count": null,
   "id": "bfa74f29",
   "metadata": {},
   "outputs": [],
   "source": [
    "type(L_a)      # a의 자료형"
   ]
  },
  {
   "cell_type": "code",
   "execution_count": null,
   "id": "1bbee535",
   "metadata": {},
   "outputs": [],
   "source": [
    "a = [1,2,3,4,5,6]\n",
    "\n",
    "listt = [num for num in a if num % 2 == 0]  # list 의 원소 중 조건에 해당하는 원소를 listt에 추가\n",
    "print(listt)\n",
    "\n",
    "listt1 = []\n",
    "for num in a:                         # list 의 원소 중 조건에 해당하는 원소를 listt에 추가\n",
    "    if num % 2 == 0:\n",
    "        listt1.extend([num])\n",
    "print(listt1)"
   ]
  },
  {
   "cell_type": "markdown",
   "id": "525c4e05",
   "metadata": {},
   "source": [
    "# 5. dictionary"
   ]
  },
  {
   "cell_type": "code",
   "execution_count": null,
   "id": "e5368b58",
   "metadata": {},
   "outputs": [],
   "source": [
    "D_a = {\"k\" : [1,2,3]}\n",
    "print(D_a)               #dictionary"
   ]
  },
  {
   "cell_type": "code",
   "execution_count": null,
   "id": "cce7a478",
   "metadata": {},
   "outputs": [],
   "source": [
    "print(D_a.values)      # ?"
   ]
  },
  {
   "cell_type": "markdown",
   "id": "0bca4bfc",
   "metadata": {},
   "source": [
    "# 6. 문자열"
   ]
  },
  {
   "cell_type": "code",
   "execution_count": null,
   "id": "db41282d",
   "metadata": {},
   "outputs": [],
   "source": [
    "S_a = \"abc\"\n",
    "S_b = S_a.upper()  # 소문자를 대문자로 변환\n",
    "\n",
    "print(S_b) \n",
    "\n",
    "S_c = S_b.lower()  # 대문자를 소문자로 변환\n",
    "print(S_c) "
   ]
  },
  {
   "cell_type": "code",
   "execution_count": null,
   "id": "256c72b1",
   "metadata": {},
   "outputs": [],
   "source": [
    "S_d = \"010-1234-5678\"\n",
    "S_d.split(\"-\")   # 문자열을 특정한 기준으로 나누기"
   ]
  },
  {
   "cell_type": "code",
   "execution_count": null,
   "id": "650b6d37",
   "metadata": {},
   "outputs": [],
   "source": [
    "\"\".join([\"1\", \"2\", \"3\"]) #문자열 합치기"
   ]
  },
  {
   "cell_type": "markdown",
   "id": "899ecc37",
   "metadata": {},
   "source": [
    "# 7. range"
   ]
  },
  {
   "cell_type": "code",
   "execution_count": null,
   "id": "17bcf298",
   "metadata": {},
   "outputs": [],
   "source": [
    "print(range(5)) # 0 ~ 5의 범위\n",
    "print(list(range(5))) # 0 이상 5 미만의 정수 list"
   ]
  },
  {
   "cell_type": "code",
   "execution_count": null,
   "id": "313730f8",
   "metadata": {},
   "outputs": [],
   "source": [
    "list(range(1,10,2)) # 1 이상 10 미만의 정수 step = 2"
   ]
  },
  {
   "cell_type": "markdown",
   "id": "6c3beae0",
   "metadata": {},
   "source": [
    "# 8. 반복문"
   ]
  },
  {
   "cell_type": "code",
   "execution_count": null,
   "id": "991f9918",
   "metadata": {},
   "outputs": [],
   "source": [
    "for i in range(1, 5): # 반복문\n",
    "    print(i)"
   ]
  },
  {
   "cell_type": "markdown",
   "id": "facb5fec",
   "metadata": {},
   "source": [
    "# 9. 코드 진행 시간 확인"
   ]
  },
  {
   "cell_type": "code",
   "execution_count": null,
   "id": "60df2a02",
   "metadata": {},
   "outputs": [],
   "source": [
    "from tqdm.notebook import tqdm\n",
    "import time\n",
    "for char in tqdm([\"a\", \"b\", \"c\", \"D\"]): # 코드를 실행하는데 걸리는 시간 측정\n",
    "    print(char)        \n",
    "    time.sleep(1) # 코드 진행 중 1초 정자(쉼)"
   ]
  },
  {
   "cell_type": "markdown",
   "id": "ca1420fa",
   "metadata": {},
   "source": [
    "# 10. 사용자 정의 함수"
   ]
  },
  {
   "cell_type": "code",
   "execution_count": null,
   "id": "3df7409a",
   "metadata": {},
   "outputs": [],
   "source": [
    "def f(x):                          # 함수 정의\n",
    "    a = sum(x) / len(x)\n",
    "    return(a)\n",
    "f(a)"
   ]
  },
  {
   "cell_type": "markdown",
   "id": "617596fe",
   "metadata": {},
   "source": [
    "# 11. 특정한 분포에서 난수 추출"
   ]
  },
  {
   "cell_type": "code",
   "execution_count": null,
   "id": "36f42d55",
   "metadata": {},
   "outputs": [],
   "source": [
    "np.random.chisquare(2, 10) # 자유도가 2인 카이제곱분포에서 10개의 난수 추출\n",
    "                            #np.random.분포의 이름()"
   ]
  },
  {
   "cell_type": "markdown",
   "id": "6d8375af",
   "metadata": {},
   "source": [
    "# 12. series"
   ]
  },
  {
   "cell_type": "code",
   "execution_count": null,
   "id": "0d0a9662",
   "metadata": {},
   "outputs": [],
   "source": [
    "import pandas as pd\n",
    "ser = pd.Series([1,2,3,4,5,5])\n",
    "ser"
   ]
  },
  {
   "cell_type": "code",
   "execution_count": null,
   "id": "d0c297b4",
   "metadata": {},
   "outputs": [],
   "source": [
    "ser.values # 원소 확인"
   ]
  },
  {
   "cell_type": "code",
   "execution_count": null,
   "id": "3b840d99",
   "metadata": {},
   "outputs": [],
   "source": [
    "ser.index # Index 확인"
   ]
  },
  {
   "cell_type": "code",
   "execution_count": null,
   "id": "39f306bc",
   "metadata": {},
   "outputs": [],
   "source": [
    "ser[ser > 2] # series에서 조건에 해당하는 원소만 추출"
   ]
  },
  {
   "cell_type": "code",
   "execution_count": null,
   "id": "1ed3b045",
   "metadata": {},
   "outputs": [],
   "source": [
    "ser.astype(object) # datatype 변환"
   ]
  },
  {
   "cell_type": "code",
   "execution_count": null,
   "id": "a9ce18de",
   "metadata": {},
   "outputs": [],
   "source": [
    "ser.reset_index() # 인덱스 초기화"
   ]
  },
  {
   "cell_type": "code",
   "execution_count": null,
   "id": "4442bad3",
   "metadata": {},
   "outputs": [],
   "source": [
    "ser.reset_index(drop = True) # 인덱스 초기화 / 이전 인덱스 삭제"
   ]
  },
  {
   "cell_type": "code",
   "execution_count": null,
   "id": "df9b34ab",
   "metadata": {},
   "outputs": [],
   "source": [
    "ser = pd.Series([1, 2, pd.NA, 4])\n",
    "ser"
   ]
  },
  {
   "cell_type": "code",
   "execution_count": null,
   "id": "899de3c8",
   "metadata": {},
   "outputs": [],
   "source": [
    "print(ser.isna()) # 결측치가 true                                     ###########################################################\n",
    "print()\n",
    "print(ser.isnull()) # 결측치가 true"
   ]
  },
  {
   "cell_type": "code",
   "execution_count": null,
   "id": "f3a8cd54",
   "metadata": {},
   "outputs": [],
   "source": [
    "print(ser.notna()) # 관측치가 true\n",
    "print()\n",
    "print(ser.notnull())"
   ]
  },
  {
   "cell_type": "code",
   "execution_count": null,
   "id": "a465e021",
   "metadata": {},
   "outputs": [],
   "source": [
    "ser[ser.isna()] # 결측치 row 추출"
   ]
  },
  {
   "cell_type": "code",
   "execution_count": null,
   "id": "3e7d6daa",
   "metadata": {},
   "outputs": [],
   "source": [
    "ser[ser.notna()] # 관측치 row 추출"
   ]
  },
  {
   "cell_type": "code",
   "execution_count": null,
   "id": "24a8205f",
   "metadata": {},
   "outputs": [],
   "source": [
    "ser[ser.isna()] = 99 # 결측치 대체하기\n",
    "ser"
   ]
  },
  {
   "cell_type": "code",
   "execution_count": null,
   "id": "16a09ae2",
   "metadata": {},
   "outputs": [],
   "source": [
    "ser = pd.Series([\"2021-11-21\", \"2021-11-22\"])\n",
    "ser"
   ]
  },
  {
   "cell_type": "code",
   "execution_count": null,
   "id": "5f1978d4",
   "metadata": {},
   "outputs": [],
   "source": [
    "pd.to_datetime(ser) # 자료형을 date time으로 변경                        ###########################################################"
   ]
  },
  {
   "cell_type": "code",
   "execution_count": null,
   "id": "b020088e",
   "metadata": {},
   "outputs": [],
   "source": [
    "ser = pd.Series([\"2021년 11월 21일\", \"2021년 11월 22일\"])\n",
    "ser"
   ]
  },
  {
   "cell_type": "code",
   "execution_count": null,
   "id": "a92c7445",
   "metadata": {},
   "outputs": [],
   "source": [
    "pd.to_datetime(ser, format = \"%Y년 %m월 %d일\") # 자료형을 date time으로 변경(형식 지정)  ###########################################################"
   ]
  },
  {
   "cell_type": "code",
   "execution_count": null,
   "id": "22eb720e",
   "metadata": {},
   "outputs": [],
   "source": [
    "ser = pd.to_datetime(pd.Series([1,2,1000, 3000]), unit = \"D\", origin = \"2021-01-01\") # 특정 날짜부터 n일 뒤\n",
    "ser"
   ]
  },
  {
   "cell_type": "code",
   "execution_count": null,
   "id": "f9ac3220",
   "metadata": {},
   "outputs": [],
   "source": [
    "ser.dt.year # 년도만 추출                                               ###########################################################"
   ]
  },
  {
   "cell_type": "code",
   "execution_count": null,
   "id": "14ca5ac1",
   "metadata": {},
   "outputs": [],
   "source": [
    "ser.dt.month # 월 만 추출                                                 ###########################################################"
   ]
  },
  {
   "cell_type": "code",
   "execution_count": null,
   "id": "0254c3d8",
   "metadata": {},
   "outputs": [],
   "source": [
    "ser.dt.day #일 만 추출                                                   ###########################################################"
   ]
  },
  {
   "cell_type": "code",
   "execution_count": null,
   "id": "a1e8bd8e",
   "metadata": {},
   "outputs": [],
   "source": [
    "ser.dt.weekday # 요일만 추출(0 :월, 6 :일)                                   ###########################################################"
   ]
  },
  {
   "cell_type": "code",
   "execution_count": null,
   "id": "ac192384",
   "metadata": {},
   "outputs": [],
   "source": [
    "from sklearn.metrics import mean_squared_error \n",
    "ser1 = pd.Series([1,2,3,4,5,6])\n",
    "ser2 = pd.Series([1,3,2,5,5,6])\n",
    "mean_squared_error(ser1, ser2)# MSE                                    ###########################################################"
   ]
  },
  {
   "cell_type": "code",
   "execution_count": null,
   "id": "48d76827",
   "metadata": {},
   "outputs": [],
   "source": [
    "mean_squared_error(ser1, ser2) ** 0.5# RMSE                              ###########################################################"
   ]
  },
  {
   "cell_type": "markdown",
   "id": "b837856d",
   "metadata": {},
   "source": [
    "# 13. dataframe"
   ]
  },
  {
   "cell_type": "code",
   "execution_count": null,
   "id": "da13cfe8",
   "metadata": {},
   "outputs": [],
   "source": [
    "df = pd.DataFrame({\"aa\" : [1,2,3], \"bb\" : [\"a\", \"b\", \"c\"]})\n",
    "df"
   ]
  },
  {
   "cell_type": "code",
   "execution_count": null,
   "id": "fed3febd",
   "metadata": {},
   "outputs": [],
   "source": [
    "df.columns # columns 이름 확인"
   ]
  },
  {
   "cell_type": "code",
   "execution_count": null,
   "id": "177f0590",
   "metadata": {},
   "outputs": [],
   "source": [
    "print(df.shape) # row, col 개수 확인\n",
    "print(df.shape[0]) # row 개수\n",
    "print(df.shape[1]) # col 개수"
   ]
  },
  {
   "cell_type": "code",
   "execution_count": null,
   "id": "db0bca60",
   "metadata": {},
   "outputs": [],
   "source": [
    "print(df.aa) # 'aa' col의 원소 확인\n",
    "print(df[\"aa\"])\n",
    "print(df.loc[:, \"aa\"])\n",
    "print(df.iloc[:, 0])"
   ]
  },
  {
   "cell_type": "code",
   "execution_count": null,
   "id": "269c2873",
   "metadata": {},
   "outputs": [],
   "source": [
    "df.index # index 범위 확인"
   ]
  },
  {
   "cell_type": "code",
   "execution_count": null,
   "id": "efedae69",
   "metadata": {},
   "outputs": [],
   "source": [
    "df = df.rename(columns = {\"aa\" : \"xx\"}) # col 이름 변경                  ###########################################################\n",
    "print(df)"
   ]
  },
  {
   "cell_type": "code",
   "execution_count": null,
   "id": "279c04f4",
   "metadata": {},
   "outputs": [],
   "source": [
    "df1 = pd.DataFrame([[1, \"b\"], [4, \"c\"], [5, \"d\"]], columns = [\"a\", \"b\"])\n",
    "print(df1)\n",
    "print()\n",
    "\n",
    "pd.concat([df, df1]) # dataframe 합치기"
   ]
  },
  {
   "cell_type": "code",
   "execution_count": null,
   "id": "74d0db6e",
   "metadata": {},
   "outputs": [],
   "source": [
    "bike = pd.read_csv(\"bike.csv\")\n",
    "bike.head(1)"
   ]
  },
  {
   "cell_type": "code",
   "execution_count": null,
   "id": "8bea00ae",
   "metadata": {},
   "outputs": [],
   "source": [
    "print(bike[\"atemp\"].min()) # 최소값\n",
    "print(bike[\"atemp\"].max()) # 최대값\n",
    "\n",
    "print(bike[\"atemp\"].mean()) # 평균\n",
    "print(bike[\"atemp\"].median()) #중앙값\n",
    "print(bike[\"atemp\"].mode()) # 최빈값\n",
    "\n",
    "print(bike[\"atemp\"].var()) # 분산\n",
    "print(bike[\"atemp\"].std()) # 표준편차\n"
   ]
  },
  {
   "cell_type": "code",
   "execution_count": null,
   "id": "6a6a9d8e",
   "metadata": {},
   "outputs": [],
   "source": [
    "print(bike[[\"atemp\", \"temp\"]].min()) # 최소값\n",
    "print()\n",
    "print(bike[[\"atemp\", \"temp\"]].max()) # 최대값\n",
    "print()\n",
    "print(bike[[\"atemp\", \"temp\"]].median()) #중앙값\n",
    "print()\n",
    "print(bike[[\"atemp\", \"temp\"]].mode()) # 최빈값\n",
    "print()\n",
    "print(bike[[\"atemp\", \"temp\"]].var()) # 분산\n",
    "print()\n",
    "print(bike[[\"atemp\", \"temp\"]].std()) # 표준편차\n"
   ]
  },
  {
   "cell_type": "code",
   "execution_count": null,
   "id": "7a213082",
   "metadata": {},
   "outputs": [],
   "source": [
    "bike.loc[:, [\"temp\", \"atemp\"]].mean()"
   ]
  },
  {
   "cell_type": "code",
   "execution_count": null,
   "id": "89c421d8",
   "metadata": {},
   "outputs": [],
   "source": [
    "bike.loc[:, [\"temp\", \"atemp\"]].mean().reset_index()"
   ]
  },
  {
   "cell_type": "code",
   "execution_count": null,
   "id": "e3fbd7a9",
   "metadata": {},
   "outputs": [],
   "source": [
    "bike.loc[:, [\"temp\", \"atemp\"]].mean(axis = 0).reset_index() # col 기준"
   ]
  },
  {
   "cell_type": "code",
   "execution_count": null,
   "id": "19301396",
   "metadata": {},
   "outputs": [],
   "source": [
    "bike.loc[:, [\"temp\", \"atemp\"]].mean(axis = 1).reset_index() # row 기준"
   ]
  },
  {
   "cell_type": "code",
   "execution_count": null,
   "id": "b17c7c41",
   "metadata": {},
   "outputs": [],
   "source": [
    "bike[\"season\"].unique() # season\" col의 원소의 종류(중복제거, 고유한 원소)       ###########################################################"
   ]
  },
  {
   "cell_type": "code",
   "execution_count": null,
   "id": "377046d6",
   "metadata": {},
   "outputs": [],
   "source": [
    "bike[\"season\"].nunique() # \"season\" col의 원소의 종류의 개수(고유한 원소의 개수)   ###########################################################"
   ]
  },
  {
   "cell_type": "code",
   "execution_count": null,
   "id": "411cb3e2",
   "metadata": {},
   "outputs": [],
   "source": [
    "bike[\"season\"].value_counts() # 각 고유 원소의 등장 빈도                     ###########################################################"
   ]
  },
  {
   "cell_type": "code",
   "execution_count": null,
   "id": "d187cf7f",
   "metadata": {},
   "outputs": [],
   "source": [
    "bike[\"season\"].value_counts(normalize = True) # 각 고유 원소의 등장 비율"
   ]
  },
  {
   "cell_type": "code",
   "execution_count": null,
   "id": "5bdf4bc9",
   "metadata": {},
   "outputs": [],
   "source": [
    "bike[\"temp\"] > 20 #조건에 해당하면 true, 그렇지 않으면 false"
   ]
  },
  {
   "cell_type": "code",
   "execution_count": null,
   "id": "1f066172",
   "metadata": {},
   "outputs": [],
   "source": [
    "df_up_20 = bike[bike[\"temp\"] > 20] # temp > 20인 데이터 추출\n",
    "print(len(df_up_20))                # temp > 20인 데이터의 개수\n",
    "\n",
    "df1_up_20 = bike.loc[bike[\"temp\"] > 20, :] \n",
    "print(len(df1_up_20))"
   ]
  },
  {
   "cell_type": "code",
   "execution_count": null,
   "id": "7f216978",
   "metadata": {},
   "outputs": [],
   "source": [
    "bike[\"season\"].isin([2,4]) # season의 원소가 2 또는 4인가                  ###########################################################"
   ]
  },
  {
   "cell_type": "code",
   "execution_count": null,
   "id": "8e387270",
   "metadata": {},
   "outputs": [],
   "source": [
    "bike_s2_s4 = bike.loc[bike[\"season\"].isin([2,4]), [\"datetime\", \"season\", \"temp\"]]\n",
    "bike_s2_s4 # season의 원소가 2 또는 4이고, col 이름이 datatime,..인 dataframe 추출"
   ]
  },
  {
   "cell_type": "code",
   "execution_count": null,
   "id": "dd6370a8",
   "metadata": {},
   "outputs": [],
   "source": [
    "bike1_s2_s4 = bike.loc[(bike[\"season\"] == 2) | (bike[\"season\"] == 4), [\"datetime\", \"season\", \"temp\"] ]\n",
    "bike1_s2_s4 # season의 원소가 2 또는 4이고, col 이름이 datatime,..인 dataframe 추출"
   ]
  },
  {
   "cell_type": "code",
   "execution_count": null,
   "id": "d43ea859",
   "metadata": {},
   "outputs": [],
   "source": [
    "bike_sub = bike.loc[(bike[\"workingday\"] == 1) & (bike[\"humidity\"] <= 60), ]\n",
    "bike_sub # worfingday =1 이고 humidity가 60 이하인 row"
   ]
  },
  {
   "cell_type": "code",
   "execution_count": null,
   "id": "2270b4f6",
   "metadata": {},
   "outputs": [],
   "source": [
    "print(bike[\"temp\"].quantile(0.25)) # 1Q\n",
    "print(bike[\"temp\"].quantile(0.5))  # 2Q(median)\n",
    "print(bike[\"temp\"].quantile(0.75)) # 3Q\n",
    "print(bike[\"temp\"].quantile(0.01)) # 하위 1%\n",
    "print(bike[\"temp\"].quantile(0.99)) # 상위 1%\n",
    "print()\n",
    "print(bike[\"temp\"].quantile(0.75) - bike[\"temp\"].quantile(0.25)) # 사분위 범위(3Q - 1Q)"
   ]
  },
  {
   "cell_type": "code",
   "execution_count": null,
   "id": "6451e999",
   "metadata": {},
   "outputs": [],
   "source": [
    "df = pd.DataFrame({\"a\" : [1,2,pd.NA], \"b\" : [4, 5, 6]})\n",
    "df"
   ]
  },
  {
   "cell_type": "code",
   "execution_count": null,
   "id": "b25173fc",
   "metadata": {},
   "outputs": [],
   "source": [
    "print(df.isna()) # 결측치가 true\n",
    "print(df.isnull())"
   ]
  },
  {
   "cell_type": "code",
   "execution_count": null,
   "id": "93b3ac65",
   "metadata": {},
   "outputs": [],
   "source": [
    "print(df.notna()) # 관측치가 true\n",
    "print(df.notnull())"
   ]
  },
  {
   "cell_type": "code",
   "execution_count": null,
   "id": "3241d104",
   "metadata": {},
   "outputs": [],
   "source": [
    "df = pd.read_csv(\"iris_missing.csv\")\n",
    "df.head()"
   ]
  },
  {
   "cell_type": "code",
   "execution_count": null,
   "id": "398395a7",
   "metadata": {},
   "outputs": [],
   "source": [
    "sum(df[\"Sepal.Length\"].isna()) # 결측치 개수(특정 dol)"
   ]
  },
  {
   "cell_type": "code",
   "execution_count": null,
   "id": "f2dcd7ff",
   "metadata": {},
   "outputs": [],
   "source": [
    "df[\"Sepal.Length\"].isna().sum()"
   ]
  },
  {
   "cell_type": "code",
   "execution_count": null,
   "id": "f2c9f312",
   "metadata": {},
   "outputs": [],
   "source": [
    "df.isna().sum().reset_index() # 각 col별 결측치 개수"
   ]
  },
  {
   "cell_type": "code",
   "execution_count": null,
   "id": "b01fa8e4",
   "metadata": {},
   "outputs": [],
   "source": [
    "df.isna().sum().reset_index().loc[:, 0].sum() # 결측치 개수 총합"
   ]
  },
  {
   "cell_type": "code",
   "execution_count": null,
   "id": "ff31c7fa",
   "metadata": {},
   "outputs": [],
   "source": [
    "df.iloc[:, : -1].head() # 마지막 변수 제거"
   ]
  },
  {
   "cell_type": "code",
   "execution_count": null,
   "id": "f33b8968",
   "metadata": {},
   "outputs": [],
   "source": [
    "df.dropna().head() # 결측치가 하나라도 있는 row를 제거   ###########################################################"
   ]
  },
  {
   "cell_type": "code",
   "execution_count": null,
   "id": "2714e078",
   "metadata": {},
   "outputs": [],
   "source": [
    "df.dropna(how = \"all\").head() #모든 col에 결측치가 있는 row만 제거"
   ]
  },
  {
   "cell_type": "code",
   "execution_count": null,
   "id": "4d6257b3",
   "metadata": {},
   "outputs": [],
   "source": [
    "df.fillna(999).head() # 결측치 대체                   ###########################################################"
   ]
  },
  {
   "cell_type": "code",
   "execution_count": null,
   "id": "7c198284",
   "metadata": {},
   "outputs": [],
   "source": [
    "df.fillna({\"Sepal.Width\" : 999, \"Petal.Length\" : 9999}).head() # 각 col별로 결측치 대체 구분"
   ]
  },
  {
   "cell_type": "code",
   "execution_count": null,
   "id": "50a60941",
   "metadata": {},
   "outputs": [],
   "source": [
    "audi = pd.read_csv(\"car/audi.csv\")\n",
    "audi.head(2)"
   ]
  },
  {
   "cell_type": "code",
   "execution_count": null,
   "id": "a2ccbd36",
   "metadata": {},
   "outputs": [],
   "source": [
    "audi.sort_values(\"price\").head() # 특정 col 기준 오름차순 정렬     ###########################################################"
   ]
  },
  {
   "cell_type": "code",
   "execution_count": null,
   "id": "df95c492",
   "metadata": {},
   "outputs": [],
   "source": [
    "audi.sort_values(\"price\", ascending = False).head() # 특정 col 기준 내림차순 정렬"
   ]
  },
  {
   "cell_type": "code",
   "execution_count": null,
   "id": "bc0a6928",
   "metadata": {},
   "outputs": [],
   "source": [
    "audi.sort_values([\"year\", \"price\"], ascending = [False, True]).head() \n",
    "# 각 col 별 오름/내림차순으로 정렬"
   ]
  },
  {
   "cell_type": "code",
   "execution_count": null,
   "id": "8f54dbb8",
   "metadata": {},
   "outputs": [],
   "source": [
    "cnt = audi[\"year\"].value_counts().reset_index()\n",
    "cnt.rename(columns = {\"index\" : \"year\", \"year\" : \"count\"}, inplace = True)\n",
    "# 연도별 차량 대수 확인\n",
    "cnt"
   ]
  },
  {
   "cell_type": "code",
   "execution_count": null,
   "id": "f6fc9003",
   "metadata": {},
   "outputs": [],
   "source": [
    "audi[\"model\"].value_counts(normalize = True).sort_values(ascending = False).round(3)\n",
    "# model별 차량 대수의 비율"
   ]
  },
  {
   "cell_type": "code",
   "execution_count": null,
   "id": "c92e8fd0",
   "metadata": {},
   "outputs": [],
   "source": [
    "audi[\"tax_ratio\"] = audi[\"tax\"] / audi[\"price\"]\n",
    "audi[\"tax_ratio\"].mean() #차량 가격대비 세금 비율의 평균"
   ]
  },
  {
   "cell_type": "code",
   "execution_count": null,
   "id": "81cce25b",
   "metadata": {},
   "outputs": [],
   "source": [
    "audi.sample(5) # 5개의 샘플 추출                 ###########################################################"
   ]
  },
  {
   "cell_type": "code",
   "execution_count": null,
   "id": "8511398d",
   "metadata": {},
   "outputs": [],
   "source": [
    "audi.sample(5, random_state = 123) # 5개의 샘플 추출(결과 고정)"
   ]
  },
  {
   "cell_type": "code",
   "execution_count": null,
   "id": "8f79fc25",
   "metadata": {},
   "outputs": [],
   "source": [
    "frac_20 = audi.sample(frac = 0.2)\n",
    "len(frac_20) # 20% 샘플링"
   ]
  },
  {
   "cell_type": "code",
   "execution_count": null,
   "id": "868d3a48",
   "metadata": {},
   "outputs": [],
   "source": [
    "frac1_20 = audi.sample(frac = 0.2, random_state = 123)\n",
    "print(audi.head(3)) # 20% 샘플링\n",
    "len(frac1_20)"
   ]
  },
  {
   "cell_type": "code",
   "execution_count": null,
   "id": "0477b595",
   "metadata": {},
   "outputs": [],
   "source": [
    "df = pd.read_csv(\"bike.csv\")\n",
    "df.head(1)\n",
    "df_1 = df.head()\n",
    "df_2 = df.tail()"
   ]
  },
  {
   "cell_type": "code",
   "execution_count": null,
   "id": "e5cdb27e",
   "metadata": {},
   "outputs": [],
   "source": [
    "pd.concat([df_1, df_2]) # col 기준으로 df합치기                ###########################################################"
   ]
  },
  {
   "cell_type": "code",
   "execution_count": null,
   "id": "bd93df31",
   "metadata": {},
   "outputs": [],
   "source": [
    "pd.concat([df_1, df_2], axis = 1) # index 기준으로 df 합치기"
   ]
  },
  {
   "cell_type": "code",
   "execution_count": null,
   "id": "63942046",
   "metadata": {},
   "outputs": [],
   "source": [
    "pd.concat([df_1, df_2.reset_index()], axis = 1) # index를 초기화해서 좌우로 붙히기"
   ]
  },
  {
   "cell_type": "code",
   "execution_count": null,
   "id": "27db8ff7",
   "metadata": {},
   "outputs": [],
   "source": [
    "pd.concat([df_1, df_2.reset_index(drop = True)], axis = 1) # index를 초기화해서 좌우로 붙히기"
   ]
  },
  {
   "cell_type": "code",
   "execution_count": null,
   "id": "0f452e87",
   "metadata": {},
   "outputs": [],
   "source": [
    "bank = pd.read_csv(\"bank.csv\", sep = \";\")\n",
    "bank.head(2)"
   ]
  },
  {
   "cell_type": "code",
   "execution_count": null,
   "id": "c5a52bc7",
   "metadata": {},
   "outputs": [],
   "source": [
    "bank.groupby(\"job\")[\"balance\"].mean() # job을 기준으로 groupby한것의 balance 평균   ###########################################################"
   ]
  },
  {
   "cell_type": "code",
   "execution_count": null,
   "id": "49d1288b",
   "metadata": {},
   "outputs": [],
   "source": [
    "bank.groupby(\"job\")[\"balance\"].mean().reset_index() # job을 기준으로 groupby한것의 balance 평균"
   ]
  },
  {
   "cell_type": "code",
   "execution_count": null,
   "id": "80421f47",
   "metadata": {},
   "outputs": [],
   "source": [
    "bank.groupby([\"job\", \"marital\"])[\"balance\"].mean().reset_index()"
   ]
  },
  {
   "cell_type": "code",
   "execution_count": null,
   "id": "9b082359",
   "metadata": {},
   "outputs": [],
   "source": [
    "dia = pd.read_csv(\"diamonds.csv\")\n",
    "dia.head(2)"
   ]
  },
  {
   "cell_type": "code",
   "execution_count": null,
   "id": "6fc1aa0e",
   "metadata": {},
   "outputs": [],
   "source": [
    "pd.crosstab(dia[\"color\"], dia[\"cut\"]) # 교차표   ###########################################################"
   ]
  },
  {
   "cell_type": "code",
   "execution_count": null,
   "id": "44ced568",
   "metadata": {},
   "outputs": [],
   "source": [
    "pd.crosstab(dia[\"color\"], dia[\"cut\"], normalize = True) # 모두 더하면 1"
   ]
  },
  {
   "cell_type": "code",
   "execution_count": null,
   "id": "b61474ad",
   "metadata": {},
   "outputs": [],
   "source": [
    "pd.crosstab(dia[\"color\"], dia[\"cut\"], normalize = 0) # 각 row를 더하면 1"
   ]
  },
  {
   "cell_type": "code",
   "execution_count": null,
   "id": "da752fab",
   "metadata": {},
   "outputs": [],
   "source": [
    "pd.crosstab(dia[\"color\"], dia[\"cut\"], normalize = 1) # 각 col을 더하면 1"
   ]
  },
  {
   "cell_type": "code",
   "execution_count": null,
   "id": "462c1df0",
   "metadata": {},
   "outputs": [],
   "source": [
    "elec = pd.read_csv(\"elec_load.csv\")\n",
    "elec.head(2)"
   ]
  },
  {
   "cell_type": "code",
   "execution_count": null,
   "id": "99a7aa05",
   "metadata": {},
   "outputs": [],
   "source": [
    "elec.melt(id_vars = [\"YEAR\", \"MONTH\", \"DAY\"]) # melting reshape   ###########################################################"
   ]
  },
  {
   "cell_type": "code",
   "execution_count": null,
   "id": "171eabfb",
   "metadata": {},
   "outputs": [],
   "source": [
    "bike = pd.read_csv(\"bike.csv\")\n",
    "print(bike[\"casual\"].skew()) # 왜도    ###########################################################\n",
    "print(bike[\"casual\"].kurt()) # 첨도"
   ]
  },
  {
   "cell_type": "code",
   "execution_count": null,
   "id": "0c25b570",
   "metadata": {},
   "outputs": [],
   "source": [
    "bike.skew(numeric_only = True)"
   ]
  },
  {
   "cell_type": "code",
   "execution_count": null,
   "id": "dc571c1a",
   "metadata": {},
   "outputs": [],
   "source": [
    "bike_sub = bike[[\"temp\", \"atemp\", \"casual\", \"registered\"]]"
   ]
  },
  {
   "cell_type": "code",
   "execution_count": null,
   "id": "73d6aa1f",
   "metadata": {},
   "outputs": [],
   "source": [
    "bike_sub.corr() # pearson 상관계수    ###########################################################"
   ]
  },
  {
   "cell_type": "code",
   "execution_count": null,
   "id": "69c17a09",
   "metadata": {},
   "outputs": [],
   "source": [
    "from scipy.stats import pearsonr\n",
    "pearsonr(bike_sub[\"temp\"], bike_sub[\"casual\"]) # pearson 상관계수, p-value"
   ]
  },
  {
   "cell_type": "code",
   "execution_count": null,
   "id": "91f92256",
   "metadata": {},
   "outputs": [],
   "source": [
    "bike_sub.corr(method = \"spearman\") # spearman 상관계수"
   ]
  },
  {
   "cell_type": "code",
   "execution_count": null,
   "id": "e8cae26c",
   "metadata": {},
   "outputs": [],
   "source": [
    "from scipy.stats import spearmanr\n",
    "spearmanr(bike_sub[\"temp\"], bike_sub[\"casual\"]) # spearman 상관계수, p-value"
   ]
  },
  {
   "cell_type": "code",
   "execution_count": null,
   "id": "92ac2416",
   "metadata": {},
   "outputs": [],
   "source": [
    "bike_sub.corr(method = \"kendall\") # kendall 상관계수"
   ]
  },
  {
   "cell_type": "code",
   "execution_count": null,
   "id": "0b8f0185",
   "metadata": {},
   "outputs": [],
   "source": [
    "from scipy.stats import kendalltau\n",
    "kendalltau(bike_sub[\"temp\"], bike_sub[\"casual\"]) #kendall 상관계수, p-value"
   ]
  },
  {
   "cell_type": "code",
   "execution_count": null,
   "id": "b9298fb0",
   "metadata": {},
   "outputs": [],
   "source": [
    "from scipy.stats import bartlett\n",
    "bartlett(bike_sub[\"temp\"], bike_sub[\"casual\"]) # bartlett검정 : 분산이 같은가   ###########################################################"
   ]
  },
  {
   "cell_type": "code",
   "execution_count": null,
   "id": "2fccf2bb",
   "metadata": {},
   "outputs": [],
   "source": [
    "df = pd.read_csv(\"traffic_accident.txt\", sep = \"\\t\")\n",
    "df.head(2)"
   ]
  },
  {
   "cell_type": "code",
   "execution_count": null,
   "id": "34b6311f",
   "metadata": {},
   "outputs": [],
   "source": [
    "from scipy.stats import chi2_contingency       ###########################################################\n",
    "chi2_contingency(pd.crosstab(df[\"sex\"], df[\"serious_yn\"])) # chi-square 검정 : 독립인가 "
   ]
  },
  {
   "cell_type": "code",
   "execution_count": null,
   "id": "ae107b13",
   "metadata": {},
   "outputs": [],
   "source": [
    "df = pd.read_excel(\"iris_xlsx.xlsx\")\n",
    "df.head(2)"
   ]
  },
  {
   "cell_type": "code",
   "execution_count": null,
   "id": "20fc21d9",
   "metadata": {},
   "outputs": [],
   "source": [
    "from scipy.stats import ttest_1samp    ###########################################################\n",
    "ttest_1samp(df[\"Sepal.Length\"], popmean = 4) # one sample t-test : 자료의 평균이 모평균과 같은가"
   ]
  },
  {
   "cell_type": "code",
   "execution_count": null,
   "id": "a7f7a960",
   "metadata": {},
   "outputs": [],
   "source": [
    "from scipy.stats import ttest_rel\n",
    "ttest_rel(df[\"Sepal.Length\"], df[\"Sepal.Width\"]) # paired t-test : 연관된 두 모집단의 평균이 같은가"
   ]
  },
  {
   "cell_type": "code",
   "execution_count": null,
   "id": "6410efec",
   "metadata": {},
   "outputs": [],
   "source": [
    "from scipy.stats import ttest_ind\n",
    "ttest_ind(df[\"Sepal.Length\"], df[\"Petal.Length\"]) # two sample t-test : 독립인 두 모집단의 평균이 같은가\n",
    "                                                  # 이분산 가정\n",
    "                                                  "
   ]
  },
  {
   "cell_type": "code",
   "execution_count": null,
   "id": "37c1bc15",
   "metadata": {},
   "outputs": [],
   "source": [
    "from scipy.stats import ttest_ind\n",
    "ttest_ind(df[\"Sepal.Length\"], df[\"Petal.Length\"], equal_var = False) # two sample t-test : 독립인 두 모집단의 평균이 같은가\n",
    "                                                                     # 이분산 가정"
   ]
  },
  {
   "cell_type": "code",
   "execution_count": null,
   "id": "1322492a",
   "metadata": {},
   "outputs": [],
   "source": [
    "from scipy.stats import ttest_ind\n",
    "ttest_ind(df[\"Sepal.Length\"], df[\"Petal.Length\"], equal_var = True) # two sample t-test : 독립인 두 모집단의 평균이 같은가\n",
    "                                                                    # 등분산 가정"
   ]
  },
  {
   "cell_type": "code",
   "execution_count": null,
   "id": "2e5f6acc",
   "metadata": {},
   "outputs": [],
   "source": [
    "from scipy.stats import f_oneway                   ###########################################################\n",
    "f_oneway(df[\"Sepal.Length\"], df[\"Sepal.Width\"], df[\"Petal.Length\"]) # one-way ANOVA : 두 개 이상의 표본(집단)의 평균이 모두 같은가\n",
    "                                                                    # 종속변수 1, 독립변수 1"
   ]
  },
  {
   "cell_type": "code",
   "execution_count": null,
   "id": "d86da105",
   "metadata": {},
   "outputs": [],
   "source": [
    "df = pd.read_csv(\"diamonds.csv\")\n",
    "from statsmodels.formula.api import ols\n",
    "from statsmodels.stats.anova import anova_lm      ###########################################################\n",
    "\n",
    "lm = ols(\"price ~ cut\", df).fit() # two-way ANOVA : 두개 이상의 집단 간 차이가 존재하는가\n",
    "anova_lm(lm)                      # 종속변수 1, 독립변수 2"
   ]
  },
  {
   "cell_type": "code",
   "execution_count": null,
   "id": "a073910a",
   "metadata": {},
   "outputs": [],
   "source": [
    "lm = ols(\"price ~ C(cut)\", df).fit() # two-way ANOVA : 두개 이상의 집단 간 차이가 존재하는가\n",
    "anova_lm(lm)                 "
   ]
  },
  {
   "cell_type": "code",
   "execution_count": null,
   "id": "3446a337",
   "metadata": {},
   "outputs": [],
   "source": [
    "from statsmodels.stats.multicomp import pairwise_tukeyhsd\n",
    "result = pairwise_tukeyhsd(df[\"price\"], df[\"cut\"]) # tukey 검정 : 각 수준별 차이가 존재하는가\n",
    "print(result)                                      # true : 귀무가설 기각, 즉 차이가 존재한다."
   ]
  },
  {
   "cell_type": "code",
   "execution_count": null,
   "id": "aeb35c7c",
   "metadata": {},
   "outputs": [],
   "source": [
    "df = pd.read_csv(\"bike.csv\")\n",
    "df.head(2)"
   ]
  },
  {
   "cell_type": "code",
   "execution_count": null,
   "id": "cf981d17",
   "metadata": {},
   "outputs": [],
   "source": [
    "from sklearn.model_selection import train_test_split # traintin 자료와 test 자료로 나누기\n",
    "df_train, df_test = train_test_split(df, train_size = 0.7)      ###########################################################\n",
    "print(len(df_train))\n",
    "df_train, df_test = train_test_split(df, test_size = 0.3)\n",
    "print(len(df_train))"
   ]
  },
  {
   "cell_type": "code",
   "execution_count": null,
   "id": "514456ed",
   "metadata": {},
   "outputs": [],
   "source": [
    "iris = pd.read_excel(\"iris_xlsx.xlsx\")\n",
    "iris.head(2)"
   ]
  },
  {
   "cell_type": "code",
   "execution_count": null,
   "id": "17b439cb",
   "metadata": {},
   "outputs": [],
   "source": [
    "iris_sub = iris.iloc[:2, :-1]\n",
    "iris_sub"
   ]
  },
  {
   "cell_type": "code",
   "execution_count": null,
   "id": "76dd75cc",
   "metadata": {},
   "outputs": [],
   "source": [
    "iris_sub_t = iris_sub.transpose() # 전치\n",
    "iris_sub_t"
   ]
  },
  {
   "cell_type": "code",
   "execution_count": null,
   "id": "bbb5b523",
   "metadata": {},
   "outputs": [],
   "source": [
    "iris_sub_t[\"diff_sq\"] = (iris_sub_t[0] - iris_sub_t[1]) **2\n",
    "iris_sub_t # 편차의 제곱"
   ]
  },
  {
   "cell_type": "code",
   "execution_count": null,
   "id": "2c2ed4bc",
   "metadata": {},
   "outputs": [],
   "source": [
    "iris_sub_t[\"diff_sq\"].sum() "
   ]
  },
  {
   "cell_type": "code",
   "execution_count": null,
   "id": "77f2ec9f",
   "metadata": {},
   "outputs": [],
   "source": [
    "iris_sub_t[\"diff_sq\"].sum() ** 0.5 # 유클리디안 거리"
   ]
  },
  {
   "cell_type": "code",
   "execution_count": null,
   "id": "87e045d7",
   "metadata": {},
   "outputs": [],
   "source": [
    "from scipy.spatial.distance import euclidean # 유클리디안 거리\n",
    "euclidean(iris_sub_t[0], iris_sub_t[1])"
   ]
  },
  {
   "cell_type": "code",
   "execution_count": null,
   "id": "0d6cc1e6",
   "metadata": {},
   "outputs": [],
   "source": [
    "from sklearn.preprocessing import MinMaxScaler # Min-Max 정규화    ###########################################################\n",
    "mm = MinMaxScaler().fit_transform(iris[[\"Sepal.Length\"]])\n",
    "mm[:5]"
   ]
  },
  {
   "cell_type": "code",
   "execution_count": null,
   "id": "ba34ff70",
   "metadata": {},
   "outputs": [],
   "source": [
    "print(max(mm))\n",
    "print(min(mm))"
   ]
  },
  {
   "cell_type": "code",
   "execution_count": null,
   "id": "1847ff4d",
   "metadata": {},
   "outputs": [],
   "source": [
    "from sklearn.preprocessing import StandardScaler # 표준정규화    ###########################################################\n",
    "sd = StandardScaler().fit_transform(iris[[\"Sepal.Length\"]])\n",
    "sd[:5]"
   ]
  },
  {
   "cell_type": "code",
   "execution_count": null,
   "id": "ce7554d9",
   "metadata": {},
   "outputs": [],
   "source": [
    "print(sd.std())\n",
    "print(sd.mean().round(3))"
   ]
  },
  {
   "cell_type": "code",
   "execution_count": null,
   "id": "3834545b",
   "metadata": {},
   "outputs": [],
   "source": [
    "df = pd.read_csv(\"linear_regression_01.csv\")\n",
    "df.head(2)"
   ]
  },
  {
   "cell_type": "code",
   "execution_count": null,
   "id": "09a00b3b",
   "metadata": {},
   "outputs": [],
   "source": [
    "from statsmodels.formula.api import ols # 단순선형회귀분석   ###########################################################\n",
    "model = ols(\"y ~ x\", data = df).fit()\n",
    "model.summary()"
   ]
  },
  {
   "cell_type": "code",
   "execution_count": null,
   "id": "30b31c87",
   "metadata": {},
   "outputs": [],
   "source": [
    "pred = model.predict(df) # 적합된 회귀식으로 예측\n",
    "pred"
   ]
  },
  {
   "cell_type": "code",
   "execution_count": null,
   "id": "dd3376c3",
   "metadata": {},
   "outputs": [],
   "source": [
    "df[\"y\"].shape"
   ]
  },
  {
   "cell_type": "code",
   "execution_count": null,
   "id": "4bbcdbce",
   "metadata": {},
   "outputs": [],
   "source": [
    "pred.shape"
   ]
  },
  {
   "cell_type": "code",
   "execution_count": null,
   "id": "39bf39e2",
   "metadata": {},
   "outputs": [],
   "source": [
    "mean_squared_error(df[\"y\"], pred) # MSE   ###########################################################"
   ]
  },
  {
   "cell_type": "code",
   "execution_count": null,
   "id": "a062a94a",
   "metadata": {},
   "outputs": [],
   "source": [
    "mean_squared_error(df[\"y\"], pred) ** 0.5 # RMSE"
   ]
  },
  {
   "cell_type": "code",
   "execution_count": null,
   "id": "a46bb9ee",
   "metadata": {},
   "outputs": [],
   "source": [
    "model.predict(pd.DataFrame({\"x\" : [3]})) # 특정 독립변수일때 예측값"
   ]
  },
  {
   "cell_type": "code",
   "execution_count": null,
   "id": "388dae92",
   "metadata": {},
   "outputs": [],
   "source": [
    "from sklearn.linear_model import LinearRegression    ###########################################################\n",
    "model = LinearRegression().fit(df[[\"y\"]], df[[\"x\"]])\n",
    "print(model.coef_) # 회귀계수\n",
    "print(model.intercept_) # 절편"
   ]
  },
  {
   "cell_type": "code",
   "execution_count": null,
   "id": "965ec309",
   "metadata": {},
   "outputs": [],
   "source": [
    "model.predict(iris.loc[:3, [\"PL\"]])"
   ]
  },
  {
   "cell_type": "code",
   "execution_count": 3,
   "id": "881eaa26",
   "metadata": {},
   "outputs": [
    {
     "data": {
      "text/html": [
       "<div>\n",
       "<style scoped>\n",
       "    .dataframe tbody tr th:only-of-type {\n",
       "        vertical-align: middle;\n",
       "    }\n",
       "\n",
       "    .dataframe tbody tr th {\n",
       "        vertical-align: top;\n",
       "    }\n",
       "\n",
       "    .dataframe thead th {\n",
       "        text-align: right;\n",
       "    }\n",
       "</style>\n",
       "<table border=\"1\" class=\"dataframe\">\n",
       "  <thead>\n",
       "    <tr style=\"text-align: right;\">\n",
       "      <th></th>\n",
       "      <th>admit</th>\n",
       "      <th>gre</th>\n",
       "      <th>gpa</th>\n",
       "      <th>rank</th>\n",
       "    </tr>\n",
       "  </thead>\n",
       "  <tbody>\n",
       "    <tr>\n",
       "      <th>0</th>\n",
       "      <td>0</td>\n",
       "      <td>380</td>\n",
       "      <td>3.61</td>\n",
       "      <td>3</td>\n",
       "    </tr>\n",
       "    <tr>\n",
       "      <th>1</th>\n",
       "      <td>1</td>\n",
       "      <td>660</td>\n",
       "      <td>3.67</td>\n",
       "      <td>3</td>\n",
       "    </tr>\n",
       "  </tbody>\n",
       "</table>\n",
       "</div>"
      ],
      "text/plain": [
       "   admit  gre   gpa  rank\n",
       "0      0  380  3.61     3\n",
       "1      1  660  3.67     3"
      ]
     },
     "execution_count": 3,
     "metadata": {},
     "output_type": "execute_result"
    }
   ],
   "source": [
    "df = pd.read_csv(\"logistic_regression_01.csv\")\n",
    "df.head(2)"
   ]
  },
  {
   "cell_type": "code",
   "execution_count": 4,
   "id": "3ed2d71a",
   "metadata": {},
   "outputs": [
    {
     "name": "stdout",
     "output_type": "stream",
     "text": [
      "Optimization terminated successfully.\n",
      "         Current function value: 0.586372\n",
      "         Iterations 5\n"
     ]
    }
   ],
   "source": [
    "from statsmodels.api import Logit # 로지스틱 회귀분석\n",
    "model = Logit(df[[\"admit\"]], df.drop(\"admit\", axis = 1)).fit()"
   ]
  },
  {
   "cell_type": "code",
   "execution_count": 5,
   "id": "a89b6e76",
   "metadata": {},
   "outputs": [
    {
     "data": {
      "text/html": [
       "<table class=\"simpletable\">\n",
       "<caption>Logit Regression Results</caption>\n",
       "<tr>\n",
       "  <th>Dep. Variable:</th>         <td>admit</td>      <th>  No. Observations:  </th>  <td>   400</td>  \n",
       "</tr>\n",
       "<tr>\n",
       "  <th>Model:</th>                 <td>Logit</td>      <th>  Df Residuals:      </th>  <td>   397</td>  \n",
       "</tr>\n",
       "<tr>\n",
       "  <th>Method:</th>                 <td>MLE</td>       <th>  Df Model:          </th>  <td>     2</td>  \n",
       "</tr>\n",
       "<tr>\n",
       "  <th>Date:</th>            <td>Sat, 27 Nov 2021</td> <th>  Pseudo R-squ.:     </th>  <td>0.06176</td> \n",
       "</tr>\n",
       "<tr>\n",
       "  <th>Time:</th>                <td>13:12:04</td>     <th>  Log-Likelihood:    </th> <td> -234.55</td> \n",
       "</tr>\n",
       "<tr>\n",
       "  <th>converged:</th>             <td>True</td>       <th>  LL-Null:           </th> <td> -249.99</td> \n",
       "</tr>\n",
       "<tr>\n",
       "  <th>Covariance Type:</th>     <td>nonrobust</td>    <th>  LLR p-value:       </th> <td>1.971e-07</td>\n",
       "</tr>\n",
       "</table>\n",
       "<table class=\"simpletable\">\n",
       "<tr>\n",
       "    <td></td>      <th>coef</th>     <th>std err</th>      <th>z</th>      <th>P>|z|</th>  <th>[0.025</th>    <th>0.975]</th>  \n",
       "</tr>\n",
       "<tr>\n",
       "  <th>gre</th>  <td>    0.0015</td> <td>    0.001</td> <td>    1.420</td> <td> 0.155</td> <td>   -0.001</td> <td>    0.004</td>\n",
       "</tr>\n",
       "<tr>\n",
       "  <th>gpa</th>  <td>   -0.0042</td> <td>    0.201</td> <td>   -0.021</td> <td> 0.983</td> <td>   -0.398</td> <td>    0.390</td>\n",
       "</tr>\n",
       "<tr>\n",
       "  <th>rank</th> <td>   -0.6695</td> <td>    0.121</td> <td>   -5.527</td> <td> 0.000</td> <td>   -0.907</td> <td>   -0.432</td>\n",
       "</tr>\n",
       "</table>"
      ],
      "text/plain": [
       "<class 'statsmodels.iolib.summary.Summary'>\n",
       "\"\"\"\n",
       "                           Logit Regression Results                           \n",
       "==============================================================================\n",
       "Dep. Variable:                  admit   No. Observations:                  400\n",
       "Model:                          Logit   Df Residuals:                      397\n",
       "Method:                           MLE   Df Model:                            2\n",
       "Date:                Sat, 27 Nov 2021   Pseudo R-squ.:                 0.06176\n",
       "Time:                        13:12:04   Log-Likelihood:                -234.55\n",
       "converged:                       True   LL-Null:                       -249.99\n",
       "Covariance Type:            nonrobust   LLR p-value:                 1.971e-07\n",
       "==============================================================================\n",
       "                 coef    std err          z      P>|z|      [0.025      0.975]\n",
       "------------------------------------------------------------------------------\n",
       "gre            0.0015      0.001      1.420      0.155      -0.001       0.004\n",
       "gpa           -0.0042      0.201     -0.021      0.983      -0.398       0.390\n",
       "rank          -0.6695      0.121     -5.527      0.000      -0.907      -0.432\n",
       "==============================================================================\n",
       "\"\"\""
      ]
     },
     "execution_count": 5,
     "metadata": {},
     "output_type": "execute_result"
    }
   ],
   "source": [
    "model.summary()"
   ]
  },
  {
   "cell_type": "code",
   "execution_count": 6,
   "id": "de1927af",
   "metadata": {},
   "outputs": [
    {
     "data": {
      "text/plain": [
       "gre     0.001477\n",
       "gpa    -0.004167\n",
       "rank   -0.669538\n",
       "dtype: float64"
      ]
     },
     "execution_count": 6,
     "metadata": {},
     "output_type": "execute_result"
    }
   ],
   "source": [
    "model.params"
   ]
  },
  {
   "cell_type": "code",
   "execution_count": 7,
   "id": "f35b245a",
   "metadata": {},
   "outputs": [
    {
     "data": {
      "text/plain": [
       "gre     1.001478\n",
       "gpa     0.995842\n",
       "rank    0.511945\n",
       "dtype: float64"
      ]
     },
     "execution_count": 7,
     "metadata": {},
     "output_type": "execute_result"
    }
   ],
   "source": [
    "np.exp(model.params) # Odd Ratio"
   ]
  },
  {
   "cell_type": "code",
   "execution_count": null,
   "id": "d5553afc",
   "metadata": {},
   "outputs": [],
   "source": [
    "pred = model.predict(df.drop(\"admit\", axis = 1))\n",
    "pred"
   ]
  },
  {
   "cell_type": "code",
   "execution_count": null,
   "id": "db8452aa",
   "metadata": {},
   "outputs": [],
   "source": [
    "pred_admit = pred > 0.5\n",
    "pred_admit[:5]"
   ]
  },
  {
   "cell_type": "code",
   "execution_count": null,
   "id": "ac9d8be5",
   "metadata": {},
   "outputs": [],
   "source": [
    "from sklearn.metrics import accuracy_score\n",
    "accuracy_score(df[\"admit\"], pred_admit)"
   ]
  },
  {
   "cell_type": "code",
   "execution_count": null,
   "id": "0f8df8ad",
   "metadata": {},
   "outputs": [],
   "source": [
    "pd.crosstab(df[\"admit\"], pred_admit)"
   ]
  },
  {
   "cell_type": "code",
   "execution_count": null,
   "id": "70a40a13",
   "metadata": {},
   "outputs": [],
   "source": [
    "from sklearn.metrics import roc_auc_score\n",
    "roc_auc_score(df[\"admit\"], pred)"
   ]
  },
  {
   "cell_type": "code",
   "execution_count": null,
   "id": "53b6b4df",
   "metadata": {},
   "outputs": [],
   "source": [
    "from sklearn.tree import DecisionTreeClassifier\n"
   ]
  }
 ],
 "metadata": {
  "kernelspec": {
   "display_name": "Python 3 (ipykernel)",
   "language": "python",
   "name": "python3"
  },
  "language_info": {
   "codemirror_mode": {
    "name": "ipython",
    "version": 3
   },
   "file_extension": ".py",
   "mimetype": "text/x-python",
   "name": "python",
   "nbconvert_exporter": "python",
   "pygments_lexer": "ipython3",
   "version": "3.8.8"
  }
 },
 "nbformat": 4,
 "nbformat_minor": 5
}
