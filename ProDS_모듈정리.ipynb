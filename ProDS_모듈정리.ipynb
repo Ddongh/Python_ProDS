{
 "cells": [
  {
   "cell_type": "code",
   "execution_count": null,
   "id": "5417f19e",
   "metadata": {},
   "outputs": [],
   "source": [
    "# t-test\n",
    "from scipy.stats import ttest_1samp\n",
    "ttest_1samp(df[\"Sepal.Length\"], popmean = 4)\n",
    "\n",
    "from scipy.stats import ttest_rel\n",
    "stat, p = ttest_rel(df[\"Sepal.Length\"], df['Sepal.Width'])\n",
    "\n",
    "from scipy.stats import ttest_ind\n",
    "stat, p = ttest_ind(bike_201101['casual'], bike_201101['registered'])"
   ]
  },
  {
   "cell_type": "code",
   "execution_count": null,
   "id": "166c3c6c",
   "metadata": {},
   "outputs": [],
   "source": [
    "# 일원분산분석\n",
    "from scipy.stats import f_oneway\n",
    "stat, p = f_oneway(df.loc[df['color'] == 'E', 'price'],\n",
    "                   df.loc[df['color'] == 'I', 'price'],\n",
    "                   df.loc[df['color'] == 'J', 'price'],\n",
    "                  )\n",
    "\n",
    "from statsmodels.formula.api import ols\n",
    "model = ols(formula = \"temp ~ season\", data = bike).fit()\n",
    "\n",
    "from statsmodels.stats.anova import anova_lm\n",
    "anova_lm(model)\n",
    "\n",
    "from statsmodels.stats.multicomp import pairwise_tukeyhsd\n",
    "pairwise_tukeyhsd(bike['temp'], bike['season'])"
   ]
  },
  {
   "cell_type": "code",
   "execution_count": null,
   "id": "8ecc31af",
   "metadata": {},
   "outputs": [],
   "source": [
    "# 등분산 검정\n",
    "from scipy.stats import f\n",
    "F = ser_M.var() / ser_F.var() # 검정통계량 F\n",
    "result = f.cdf(F, dfd = len(ser_M) - 1, dfn = len(ser_F)) # 누적분포함수\n",
    "p = (1 - result) * 2 # p-value\n",
    "\n",
    "# 두 집단 이상\n",
    "from scipy.stats import bartlett # 정규분포\n",
    "stat, p = bartlett(ser_M, ser_F)\n",
    "\n",
    "from scipy.stats import levene\n",
    "stat, p = levene(ser_M, ser_F)"
   ]
  },
  {
   "cell_type": "code",
   "execution_count": null,
   "id": "bebec5e0",
   "metadata": {},
   "outputs": [],
   "source": [
    "# 독립성 검정\n",
    "from scipy.stats import chi2_contingency\n",
    "chi2_contingency(pd.crosstab(df['Gender'], df['Marital_status'])) # 검정통계량, p-value, 자유도, 기대빈도"
   ]
  },
  {
   "cell_type": "code",
   "execution_count": null,
   "id": "553d76d4",
   "metadata": {},
   "outputs": [],
   "source": [
    "# 상관분석\n",
    "df.corr()\n",
    "\n",
    "from scipy.stats import pearsonr\n",
    "pearsonr(df['casual'], df['registered'])\n",
    "\n",
    "from scipy.stats import spearmanr\n",
    "spearmanr(df['casual'], df['registered'])\n",
    "\n",
    "from scipy.stats import kendalltau\n",
    "kendalltau(df['casual'], df['registered'])"
   ]
  },
  {
   "cell_type": "code",
   "execution_count": null,
   "id": "041988cc",
   "metadata": {},
   "outputs": [],
   "source": [
    "# 단순회귀분석\n",
    "from statsmodels.formula.api import ols\n",
    "model = ols(formula = \"SL ~ SW\", data = df).fit()\n",
    "\n",
    "from sklearn.linear_model import LinearRegression\n",
    "model = LinearRegression().fit(X = df[[\"PL\"]], # []로 묶어서 dataframe구조가 풀리지 않도록 한다.\n",
    "                              y = df[\"PW\"])"
   ]
  },
  {
   "cell_type": "code",
   "execution_count": null,
   "id": "a8bf641e",
   "metadata": {},
   "outputs": [],
   "source": [
    "# squared error\n",
    "from sklearn.metrics import mean_absolute_error\n",
    "mean_absolute_error(y_true = df['PL'], y_pred = df['pred'])\n",
    "\n",
    "from sklearn.metrics import mean_squared_error\n",
    "MSE = mean_squared_error(y_true = df['PL'], y_pred = df['pred'])"
   ]
  },
  {
   "cell_type": "code",
   "execution_count": null,
   "id": "3eea1ef2",
   "metadata": {},
   "outputs": [],
   "source": [
    "# 다중회귀분석\n",
    "from patsy import dmatrices\n",
    "formula = \"casual ~ \" + \" + \".join(df_sub[:-1])\n",
    "y, X = dmatrices(formula, data = df_sub, return_type = \"dataframe\")\n",
    "\n",
    "# 다중공선성(분산팽창계수)\n",
    "from statsmodels.stats.outliers_influence import variance_inflation_factor as vif\n",
    "df_vif = pd.DataFrame()\n",
    "df_vif['colname'] = X.columns\n",
    "df_vif['VIF'] = [vif(X.values, i) for i in range(X.shape[1])]\n",
    "df_vif"
   ]
  },
  {
   "cell_type": "code",
   "execution_count": null,
   "id": "742de187",
   "metadata": {},
   "outputs": [],
   "source": [
    "# 로지스틱\n",
    "from statsmodels.api import Logit\n",
    "model = Logit(endog = df['is_setosa'], # endog : 종속변수\n",
    "             exog = df.iloc[:, :2]).fit() # exog : 독립변수\n",
    "\n",
    "from sklearn.linear_model import LogisticRegression\n",
    "model = LogisticRegression(random_state = 123).fit(X = df.iloc[:, :2],\n",
    "                                                  y = df[\"is_setosa\"])\n",
    "\n",
    "from sklearn.metrics import roc_auc_score # 분류값이 아닌 확률값을 넣어야한다.\n",
    "roc_auc_score(y_true = df['is_setosa'], y_score = pred[:, 1])\n",
    "# 모델평가 : 1에 가까울수록 좋은 모델\n",
    "\n",
    "from sklearn.metrics import accuracy_score # 정확도 산출\n",
    "accuracy_score(y_true = df[\"is_setosa\"], y_pred = np.where(pred > 0.5, 1, 0)[:, 1])\n",
    "\n",
    "from sklearn.metrics import precision_score # 정밀도 산출\n",
    "from sklearn.metrics import recall_score # 재현율 산출\n",
    "from sklearn.metrics import f1_score # f1값 산출"
   ]
  },
  {
   "cell_type": "code",
   "execution_count": null,
   "id": "834c14c1",
   "metadata": {},
   "outputs": [],
   "source": [
    "from sklearn.model_selection import train_test_split\n",
    "df_train, df_test = train_test_split(df, train_size = 0.8, random_state = 123)"
   ]
  },
  {
   "cell_type": "code",
   "execution_count": null,
   "id": "d83e9d6c",
   "metadata": {},
   "outputs": [],
   "source": [
    "from sklearn.tree import DecisionTreeClassifier\n",
    "model_c = DecisionTreeClassifier(random_state = 123).fit(X = df.iloc[:, :4],\n",
    "                                                        y = df[\"is_setosa\"])\n",
    "\n",
    "from sklearn.tree import DecisionTreeRegressor\n",
    "model_r = DecisionTreeRegressor(random_state = 123).fit(X = df.iloc[:, :3],\n",
    "                                                       y = df[\"Petal.Width\"])\n",
    "model_r"
   ]
  },
  {
   "cell_type": "code",
   "execution_count": null,
   "id": "fd1a9d34",
   "metadata": {},
   "outputs": [],
   "source": []
  },
  {
   "cell_type": "code",
   "execution_count": null,
   "id": "7b51fd43",
   "metadata": {},
   "outputs": [],
   "source": []
  },
  {
   "cell_type": "code",
   "execution_count": null,
   "id": "195c0d2a",
   "metadata": {},
   "outputs": [],
   "source": [
    "from scipy.stats import # t-test, 일원분산분석\n",
    "from scipy.stats import bartlett\n",
    "from scipy.stats import levene\n",
    "from scipy.stats import chi2_contingency\n",
    "from scipy.stats import pearsonr\n",
    "from scipy.stats import spearmanr\n",
    "\n",
    "from statsmodels.formula.api import ols\n",
    "from statsmodels.api import Logit\n",
    "\n",
    "from statsmodels.stats.anova import anova_lm\n",
    "from statsmodels.stats.multicomp import pairwise_tukeyhsd\n",
    "from statsmodels.stats.outliers_influence import variance_inflation_factor as vif\n",
    "\n",
    "from sklearn.model_selection import train_test_split\n",
    "from sklearn.linear_model import LinearRegression\n",
    "from sklearn.linear_model import LogisticRegression\n",
    "\n",
    "from sklearn.metrics import mean_absolute_error\n",
    "from sklearn.metrics import mean_squared_error\n",
    "from sklearn.metrics import roc_auc_score # 분류값이 아닌 확률값을 넣어야한다.\n",
    "from sklearn.metrics import precision_score # 정밀도 산출\n",
    "from sklearn.metrics import recall_score # 재현율 산출\n",
    "from sklearn.tree import DecisionTreeClassifier\n",
    "from sklearn.tree import DecisionTreeClassifier\n",
    "\n",
    "from patsy import dmatrices"
   ]
  },
  {
   "cell_type": "code",
   "execution_count": null,
   "id": "1ff25106",
   "metadata": {},
   "outputs": [],
   "source": []
  },
  {
   "cell_type": "code",
   "execution_count": null,
   "id": "71ca686f",
   "metadata": {},
   "outputs": [],
   "source": []
  },
  {
   "cell_type": "code",
   "execution_count": null,
   "id": "dd5b7cc1",
   "metadata": {},
   "outputs": [],
   "source": []
  }
 ],
 "metadata": {
  "kernelspec": {
   "display_name": "Python 3 (ipykernel)",
   "language": "python",
   "name": "python3"
  },
  "language_info": {
   "codemirror_mode": {
    "name": "ipython",
    "version": 3
   },
   "file_extension": ".py",
   "mimetype": "text/x-python",
   "name": "python",
   "nbconvert_exporter": "python",
   "pygments_lexer": "ipython3",
   "version": "3.8.8"
  }
 },
 "nbformat": 4,
 "nbformat_minor": 5
}
